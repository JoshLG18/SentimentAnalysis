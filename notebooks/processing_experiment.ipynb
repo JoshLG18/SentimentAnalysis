{
 "cells": [
  {
   "cell_type": "code",
   "execution_count": 3,
   "id": "24a569e3",
   "metadata": {},
   "outputs": [],
   "source": [
    "import torch\n",
    "from torchtext.data.utils import get_tokenizer\n",
    "from torchtext.vocab import build_vocab_from_iterator, GloVe\n",
    "from torch.nn.utils.rnn import pad_sequence\n",
    "from torch.utils.data import DataLoader\n",
    "from datasets import Dataset\n",
    "import pandas as pd\n",
    "from sklearn.model_selection import train_test_split\n",
    "from collections import Counter\n",
    "from utils import EMBEDDING_DIM, MAX_LEN, BATCH_SIZE, LABEL_MAPPING\n",
    "\n",
    "train_path = '../data/twitter_training.csv'\n",
    "test_path = '../data/twitter_validation.csv'\n",
    "\n",
    "# ========== Load and Split Data ==========\n",
    "\"\"\"Load CSVs, clean, and split into train/test pandas DataFrames.\"\"\"\n",
    "raw_train_data = pd.read_csv(train_path)\n",
    "raw_val_data = pd.read_csv(test_path)\n",
    "\n",
    "raw_train_data.columns = [\"ID\", \"Object\", \"Sentiment\", \"Tweet\"]\n",
    "raw_val_data.columns = [\"ID\", \"Object\", \"Sentiment\", \"Tweet\"]\n",
    "\n",
    "# Combine\n",
    "full_data = pd.concat([raw_train_data, raw_val_data])\n",
    "\n",
    "# Clean\n",
    "full_data = full_data.drop_duplicates()\n",
    "full_data = full_data.drop(columns=[\"ID\", \"Object\"])\n",
    "full_data = full_data.rename(columns={\"Tweet\": \"text\", \"Sentiment\": \"label\"})\n",
    "full_data[\"text\"] = full_data[\"text\"].astype(str)\n",
    "# normalise labels to lowercase strings and drop anything unexpected\n",
    "full_data[\"label\"] = full_data[\"label\"].astype(str).str.strip().str.lower()\n",
    "full_data = full_data[full_data[\"label\"].isin(LABEL_MAPPING.keys())]"
   ]
  },
  {
   "cell_type": "code",
   "execution_count": 4,
   "id": "a47c9eba",
   "metadata": {},
   "outputs": [
    {
     "data": {
      "text/html": [
       "<div>\n",
       "<style scoped>\n",
       "    .dataframe tbody tr th:only-of-type {\n",
       "        vertical-align: middle;\n",
       "    }\n",
       "\n",
       "    .dataframe tbody tr th {\n",
       "        vertical-align: top;\n",
       "    }\n",
       "\n",
       "    .dataframe thead th {\n",
       "        text-align: right;\n",
       "    }\n",
       "</style>\n",
       "<table border=\"1\" class=\"dataframe\">\n",
       "  <thead>\n",
       "    <tr style=\"text-align: right;\">\n",
       "      <th></th>\n",
       "      <th>label</th>\n",
       "      <th>text</th>\n",
       "    </tr>\n",
       "  </thead>\n",
       "  <tbody>\n",
       "  </tbody>\n",
       "</table>\n",
       "</div>"
      ],
      "text/plain": [
       "Empty DataFrame\n",
       "Columns: [label, text]\n",
       "Index: []"
      ]
     },
     "execution_count": 4,
     "metadata": {},
     "output_type": "execute_result"
    }
   ],
   "source": [
    "full_data"
   ]
  }
 ],
 "metadata": {
  "kernelspec": {
   "display_name": "Python 3",
   "language": "python",
   "name": "python3"
  },
  "language_info": {
   "codemirror_mode": {
    "name": "ipython",
    "version": 3
   },
   "file_extension": ".py",
   "mimetype": "text/x-python",
   "name": "python",
   "nbconvert_exporter": "python",
   "pygments_lexer": "ipython3",
   "version": "3.11.13"
  }
 },
 "nbformat": 4,
 "nbformat_minor": 5
}
